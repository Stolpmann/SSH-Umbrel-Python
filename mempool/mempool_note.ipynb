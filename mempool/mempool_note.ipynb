{
 "cells": [
  {
   "cell_type": "code",
   "execution_count": 71,
   "metadata": {},
   "outputs": [],
   "source": [
    "import pandas as pd\n",
    "import numpy as np\n",
    "import datetime"
   ]
  },
  {
   "cell_type": "code",
   "execution_count": 72,
   "metadata": {},
   "outputs": [
    {
     "name": "stdout",
     "output_type": "stream",
     "text": [
      "     Unnamed: 0                      fees                vsize  \\\n",
      "0             0      \"fee\": 0.00006860,\\n      \"vsize\": 188,\\n   \n",
      "1             1      \"fee\": 0.00001060,\\n      \"vsize\": 209,\\n   \n",
      "2             2      \"fee\": 0.00000606,\\n      \"vsize\": 110,\\n   \n",
      "3             3      \"fee\": 0.00001320,\\n      \"vsize\": 110,\\n   \n",
      "4             4      \"fee\": 0.00006996,\\n      \"vsize\": 632,\\n   \n",
      "..          ...                       ...                  ...   \n",
      "514         514      \"fee\": 0.00000390,\\n      \"vsize\": 202,\\n   \n",
      "515         515      \"fee\": 0.00003164,\\n      \"vsize\": 142,\\n   \n",
      "516         516      \"fee\": 0.00003073,\\n      \"vsize\": 208,\\n   \n",
      "517         517      \"fee\": 0.00001704,\\n      \"vsize\": 142,\\n   \n",
      "518         518      \"fee\": 0.00000910,\\n      \"vsize\": 181,\\n   \n",
      "\n",
      "                          time  \n",
      "0        \"time\": 1654995151,\\n  \n",
      "1        \"time\": 1654995148,\\n  \n",
      "2        \"time\": 1654995343,\\n  \n",
      "3        \"time\": 1654995142,\\n  \n",
      "4        \"time\": 1654995142,\\n  \n",
      "..                         ...  \n",
      "514      \"time\": 1654995397,\\n  \n",
      "515      \"time\": 1654995397,\\n  \n",
      "516      \"time\": 1654995397,\\n  \n",
      "517      \"time\": 1654995397,\\n  \n",
      "518      \"time\": 1654995397,\\n  \n",
      "\n",
      "[519 rows x 4 columns]\n"
     ]
    }
   ],
   "source": [
    "df = pd.read_csv('memdata.csv')\n",
    "print(df)"
   ]
  },
  {
   "cell_type": "code",
   "execution_count": 73,
   "metadata": {},
   "outputs": [
    {
     "name": "stdout",
     "output_type": "stream",
     "text": [
      "     Unnamed: 0        fees vsize        time\n",
      "0             0  0.00006860   188  1654995151\n",
      "1             1  0.00001060   209  1654995148\n",
      "2             2  0.00000606   110  1654995343\n",
      "3             3  0.00001320   110  1654995142\n",
      "4             4  0.00006996   632  1654995142\n",
      "..          ...         ...   ...         ...\n",
      "514         514  0.00000390   202  1654995397\n",
      "515         515  0.00003164   142  1654995397\n",
      "516         516  0.00003073   208  1654995397\n",
      "517         517  0.00001704   142  1654995397\n",
      "518         518  0.00000910   181  1654995397\n",
      "\n",
      "[519 rows x 4 columns]\n"
     ]
    }
   ],
   "source": [
    "df[\"fees\"] = df[\"fees\"].str[11:21]\n",
    "df[\"vsize\"] = df[\"vsize\"].str.extract('(\\d+)', expand=False)\n",
    "df[\"time\"] = df[\"time\"].str.extract('(\\d+)', expand=False)\n",
    "\n",
    "print(df)"
   ]
  },
  {
   "cell_type": "code",
   "execution_count": 74,
   "metadata": {},
   "outputs": [],
   "source": [
    "df['fees'] = df['fees'].astype('float')\n",
    "df['fees'] = df['fees'].apply(lambda x: x * 100000000)\n",
    "df['fees'] = df['fees'].astype('int')\n",
    "df['vsize'] = df['vsize'].astype('int')"
   ]
  },
  {
   "cell_type": "code",
   "execution_count": 75,
   "metadata": {},
   "outputs": [],
   "source": [
    "df[\"sats/vbyte\"] = df[\"fees\"]/df[\"vsize\"]\n",
    "df['sats/vbyte'] = df['sats/vbyte'].astype('int')"
   ]
  },
  {
   "cell_type": "code",
   "execution_count": 76,
   "metadata": {},
   "outputs": [
    {
     "ename": "TypeError",
     "evalue": "index is not a valid DatetimeIndex or PeriodIndex",
     "output_type": "error",
     "traceback": [
      "\u001b[0;31m---------------------------------------------------------------------------\u001b[0m",
      "\u001b[0;31mTypeError\u001b[0m                                 Traceback (most recent call last)",
      "\u001b[0;32m<ipython-input-76-b5506c4da9af>\u001b[0m in \u001b[0;36m<module>\u001b[0;34m\u001b[0m\n\u001b[1;32m      1\u001b[0m \u001b[0;31m#df['time'] = pd.to_datetime(df['time'],unit='s')\u001b[0m\u001b[0;34m\u001b[0m\u001b[0;34m\u001b[0m\u001b[0;34m\u001b[0m\u001b[0m\n\u001b[0;32m----> 2\u001b[0;31m \u001b[0mdf\u001b[0m\u001b[0;34m[\u001b[0m\u001b[0;34m'time'\u001b[0m\u001b[0;34m]\u001b[0m \u001b[0;34m=\u001b[0m \u001b[0mpd\u001b[0m\u001b[0;34m.\u001b[0m\u001b[0mto_datetime\u001b[0m\u001b[0;34m(\u001b[0m\u001b[0mdf\u001b[0m\u001b[0;34m[\u001b[0m\u001b[0;34m'time'\u001b[0m\u001b[0;34m]\u001b[0m\u001b[0;34m,\u001b[0m\u001b[0munit\u001b[0m\u001b[0;34m=\u001b[0m\u001b[0;34m's'\u001b[0m\u001b[0;34m)\u001b[0m\u001b[0;34m.\u001b[0m\u001b[0mtz_localize\u001b[0m\u001b[0;34m(\u001b[0m\u001b[0;34m'utc'\u001b[0m\u001b[0;34m)\u001b[0m\u001b[0;34m.\u001b[0m\u001b[0mdt\u001b[0m\u001b[0;34m.\u001b[0m\u001b[0mtz_convert\u001b[0m\u001b[0;34m(\u001b[0m\u001b[0;34m'US/Eastern'\u001b[0m\u001b[0;34m)\u001b[0m\u001b[0;34m\u001b[0m\u001b[0;34m\u001b[0m\u001b[0m\n\u001b[0m",
      "\u001b[0;32m~/opt/anaconda3/lib/python3.8/site-packages/pandas/core/generic.py\u001b[0m in \u001b[0;36mtz_localize\u001b[0;34m(self, tz, axis, level, copy, ambiguous, nonexistent)\u001b[0m\n\u001b[1;32m   9646\u001b[0m             \u001b[0;32mif\u001b[0m \u001b[0mlevel\u001b[0m \u001b[0;32mnot\u001b[0m \u001b[0;32min\u001b[0m \u001b[0;34m(\u001b[0m\u001b[0;32mNone\u001b[0m\u001b[0;34m,\u001b[0m \u001b[0;36m0\u001b[0m\u001b[0;34m,\u001b[0m \u001b[0max\u001b[0m\u001b[0;34m.\u001b[0m\u001b[0mname\u001b[0m\u001b[0;34m)\u001b[0m\u001b[0;34m:\u001b[0m\u001b[0;34m\u001b[0m\u001b[0;34m\u001b[0m\u001b[0m\n\u001b[1;32m   9647\u001b[0m                 \u001b[0;32mraise\u001b[0m \u001b[0mValueError\u001b[0m\u001b[0;34m(\u001b[0m\u001b[0;34mf\"The level {level} is not valid\"\u001b[0m\u001b[0;34m)\u001b[0m\u001b[0;34m\u001b[0m\u001b[0;34m\u001b[0m\u001b[0m\n\u001b[0;32m-> 9648\u001b[0;31m             \u001b[0max\u001b[0m \u001b[0;34m=\u001b[0m \u001b[0m_tz_localize\u001b[0m\u001b[0;34m(\u001b[0m\u001b[0max\u001b[0m\u001b[0;34m,\u001b[0m \u001b[0mtz\u001b[0m\u001b[0;34m,\u001b[0m \u001b[0mambiguous\u001b[0m\u001b[0;34m,\u001b[0m \u001b[0mnonexistent\u001b[0m\u001b[0;34m)\u001b[0m\u001b[0;34m\u001b[0m\u001b[0;34m\u001b[0m\u001b[0m\n\u001b[0m\u001b[1;32m   9649\u001b[0m \u001b[0;34m\u001b[0m\u001b[0m\n\u001b[1;32m   9650\u001b[0m         \u001b[0mresult\u001b[0m \u001b[0;34m=\u001b[0m \u001b[0mself\u001b[0m\u001b[0;34m.\u001b[0m\u001b[0mcopy\u001b[0m\u001b[0;34m(\u001b[0m\u001b[0mdeep\u001b[0m\u001b[0;34m=\u001b[0m\u001b[0mcopy\u001b[0m\u001b[0;34m)\u001b[0m\u001b[0;34m\u001b[0m\u001b[0;34m\u001b[0m\u001b[0m\n",
      "\u001b[0;32m~/opt/anaconda3/lib/python3.8/site-packages/pandas/core/generic.py\u001b[0m in \u001b[0;36m_tz_localize\u001b[0;34m(ax, tz, ambiguous, nonexistent)\u001b[0m\n\u001b[1;32m   9628\u001b[0m                 \u001b[0;32mif\u001b[0m \u001b[0mlen\u001b[0m\u001b[0;34m(\u001b[0m\u001b[0max\u001b[0m\u001b[0;34m)\u001b[0m \u001b[0;34m>\u001b[0m \u001b[0;36m0\u001b[0m\u001b[0;34m:\u001b[0m\u001b[0;34m\u001b[0m\u001b[0;34m\u001b[0m\u001b[0m\n\u001b[1;32m   9629\u001b[0m                     \u001b[0max_name\u001b[0m \u001b[0;34m=\u001b[0m \u001b[0mself\u001b[0m\u001b[0;34m.\u001b[0m\u001b[0m_get_axis_name\u001b[0m\u001b[0;34m(\u001b[0m\u001b[0maxis\u001b[0m\u001b[0;34m)\u001b[0m\u001b[0;34m\u001b[0m\u001b[0;34m\u001b[0m\u001b[0m\n\u001b[0;32m-> 9630\u001b[0;31m                     raise TypeError(\n\u001b[0m\u001b[1;32m   9631\u001b[0m                         \u001b[0;34mf\"{ax_name} is not a valid DatetimeIndex or PeriodIndex\"\u001b[0m\u001b[0;34m\u001b[0m\u001b[0;34m\u001b[0m\u001b[0m\n\u001b[1;32m   9632\u001b[0m                     )\n",
      "\u001b[0;31mTypeError\u001b[0m: index is not a valid DatetimeIndex or PeriodIndex"
     ]
    }
   ],
   "source": [
    "#df['time'] = pd.to_datetime(df['time'],unit='s')\n",
    "df['time'] = pd.to_datetime(df['time'],unit='s').dt.tz_localize('utc').dt.tz_convert('US/Eastern')"
   ]
  },
  {
   "cell_type": "code",
   "execution_count": 70,
   "metadata": {},
   "outputs": [
    {
     "data": {
      "text/html": [
       "<div>\n",
       "<style scoped>\n",
       "    .dataframe tbody tr th:only-of-type {\n",
       "        vertical-align: middle;\n",
       "    }\n",
       "\n",
       "    .dataframe tbody tr th {\n",
       "        vertical-align: top;\n",
       "    }\n",
       "\n",
       "    .dataframe thead th {\n",
       "        text-align: right;\n",
       "    }\n",
       "</style>\n",
       "<table border=\"1\" class=\"dataframe\">\n",
       "  <thead>\n",
       "    <tr style=\"text-align: right;\">\n",
       "      <th></th>\n",
       "      <th>fees</th>\n",
       "      <th>vsize</th>\n",
       "      <th>time</th>\n",
       "      <th>sats/vbyte</th>\n",
       "    </tr>\n",
       "  </thead>\n",
       "  <tbody>\n",
       "    <tr>\n",
       "      <th>0</th>\n",
       "      <td>6860</td>\n",
       "      <td>188</td>\n",
       "      <td>2022-06-11 20:52:31-04:00</td>\n",
       "      <td>36</td>\n",
       "    </tr>\n",
       "    <tr>\n",
       "      <th>1</th>\n",
       "      <td>1060</td>\n",
       "      <td>209</td>\n",
       "      <td>2022-06-11 20:52:28-04:00</td>\n",
       "      <td>5</td>\n",
       "    </tr>\n",
       "    <tr>\n",
       "      <th>2</th>\n",
       "      <td>606</td>\n",
       "      <td>110</td>\n",
       "      <td>2022-06-11 20:55:43-04:00</td>\n",
       "      <td>5</td>\n",
       "    </tr>\n",
       "    <tr>\n",
       "      <th>3</th>\n",
       "      <td>1320</td>\n",
       "      <td>110</td>\n",
       "      <td>2022-06-11 20:52:22-04:00</td>\n",
       "      <td>12</td>\n",
       "    </tr>\n",
       "    <tr>\n",
       "      <th>4</th>\n",
       "      <td>6996</td>\n",
       "      <td>632</td>\n",
       "      <td>2022-06-11 20:52:22-04:00</td>\n",
       "      <td>11</td>\n",
       "    </tr>\n",
       "    <tr>\n",
       "      <th>...</th>\n",
       "      <td>...</td>\n",
       "      <td>...</td>\n",
       "      <td>...</td>\n",
       "      <td>...</td>\n",
       "    </tr>\n",
       "    <tr>\n",
       "      <th>514</th>\n",
       "      <td>390</td>\n",
       "      <td>202</td>\n",
       "      <td>2022-06-11 20:56:37-04:00</td>\n",
       "      <td>1</td>\n",
       "    </tr>\n",
       "    <tr>\n",
       "      <th>515</th>\n",
       "      <td>3164</td>\n",
       "      <td>142</td>\n",
       "      <td>2022-06-11 20:56:37-04:00</td>\n",
       "      <td>22</td>\n",
       "    </tr>\n",
       "    <tr>\n",
       "      <th>516</th>\n",
       "      <td>3073</td>\n",
       "      <td>208</td>\n",
       "      <td>2022-06-11 20:56:37-04:00</td>\n",
       "      <td>14</td>\n",
       "    </tr>\n",
       "    <tr>\n",
       "      <th>517</th>\n",
       "      <td>1704</td>\n",
       "      <td>142</td>\n",
       "      <td>2022-06-11 20:56:37-04:00</td>\n",
       "      <td>12</td>\n",
       "    </tr>\n",
       "    <tr>\n",
       "      <th>518</th>\n",
       "      <td>909</td>\n",
       "      <td>181</td>\n",
       "      <td>2022-06-11 20:56:37-04:00</td>\n",
       "      <td>5</td>\n",
       "    </tr>\n",
       "  </tbody>\n",
       "</table>\n",
       "<p>519 rows × 4 columns</p>\n",
       "</div>"
      ],
      "text/plain": [
       "     fees  vsize                      time  sats/vbyte\n",
       "0    6860    188 2022-06-11 20:52:31-04:00          36\n",
       "1    1060    209 2022-06-11 20:52:28-04:00           5\n",
       "2     606    110 2022-06-11 20:55:43-04:00           5\n",
       "3    1320    110 2022-06-11 20:52:22-04:00          12\n",
       "4    6996    632 2022-06-11 20:52:22-04:00          11\n",
       "..    ...    ...                       ...         ...\n",
       "514   390    202 2022-06-11 20:56:37-04:00           1\n",
       "515  3164    142 2022-06-11 20:56:37-04:00          22\n",
       "516  3073    208 2022-06-11 20:56:37-04:00          14\n",
       "517  1704    142 2022-06-11 20:56:37-04:00          12\n",
       "518   909    181 2022-06-11 20:56:37-04:00           5\n",
       "\n",
       "[519 rows x 4 columns]"
      ]
     },
     "execution_count": 70,
     "metadata": {},
     "output_type": "execute_result"
    }
   ],
   "source": [
    "df = df.drop(columns='Unnamed: 0')\n",
    "df"
   ]
  },
  {
   "cell_type": "code",
   "execution_count": 45,
   "metadata": {},
   "outputs": [],
   "source": [
    "df.to_csv(\"memdata_clean.csv\",index=False)\n",
    "df.to_csv(\"~/PycharmProjects/bitcoin_dash/data/memdata_clean.csv\",index=False)"
   ]
  },
  {
   "cell_type": "code",
   "execution_count": 46,
   "metadata": {},
   "outputs": [
    {
     "data": {
      "text/html": [
       "<div>\n",
       "<style scoped>\n",
       "    .dataframe tbody tr th:only-of-type {\n",
       "        vertical-align: middle;\n",
       "    }\n",
       "\n",
       "    .dataframe tbody tr th {\n",
       "        vertical-align: top;\n",
       "    }\n",
       "\n",
       "    .dataframe thead th {\n",
       "        text-align: right;\n",
       "    }\n",
       "</style>\n",
       "<table border=\"1\" class=\"dataframe\">\n",
       "  <thead>\n",
       "    <tr style=\"text-align: right;\">\n",
       "      <th></th>\n",
       "      <th>fees</th>\n",
       "      <th>vsize</th>\n",
       "      <th>sats/vbyte</th>\n",
       "    </tr>\n",
       "  </thead>\n",
       "  <tbody>\n",
       "    <tr>\n",
       "      <th>0</th>\n",
       "      <td>3372</td>\n",
       "      <td>252</td>\n",
       "      <td>13</td>\n",
       "    </tr>\n",
       "    <tr>\n",
       "      <th>1</th>\n",
       "      <td>3953</td>\n",
       "      <td>1658</td>\n",
       "      <td>2</td>\n",
       "    </tr>\n",
       "    <tr>\n",
       "      <th>2</th>\n",
       "      <td>5641</td>\n",
       "      <td>405</td>\n",
       "      <td>13</td>\n",
       "    </tr>\n",
       "    <tr>\n",
       "      <th>3</th>\n",
       "      <td>219</td>\n",
       "      <td>145</td>\n",
       "      <td>1</td>\n",
       "    </tr>\n",
       "    <tr>\n",
       "      <th>4</th>\n",
       "      <td>1720</td>\n",
       "      <td>346</td>\n",
       "      <td>4</td>\n",
       "    </tr>\n",
       "    <tr>\n",
       "      <th>...</th>\n",
       "      <td>...</td>\n",
       "      <td>...</td>\n",
       "      <td>...</td>\n",
       "    </tr>\n",
       "    <tr>\n",
       "      <th>907</th>\n",
       "      <td>8040</td>\n",
       "      <td>665</td>\n",
       "      <td>12</td>\n",
       "    </tr>\n",
       "    <tr>\n",
       "      <th>908</th>\n",
       "      <td>1305</td>\n",
       "      <td>142</td>\n",
       "      <td>9</td>\n",
       "    </tr>\n",
       "    <tr>\n",
       "      <th>909</th>\n",
       "      <td>1699</td>\n",
       "      <td>141</td>\n",
       "      <td>12</td>\n",
       "    </tr>\n",
       "    <tr>\n",
       "      <th>910</th>\n",
       "      <td>860</td>\n",
       "      <td>372</td>\n",
       "      <td>2</td>\n",
       "    </tr>\n",
       "    <tr>\n",
       "      <th>911</th>\n",
       "      <td>531</td>\n",
       "      <td>208</td>\n",
       "      <td>2</td>\n",
       "    </tr>\n",
       "  </tbody>\n",
       "</table>\n",
       "<p>912 rows × 3 columns</p>\n",
       "</div>"
      ],
      "text/plain": [
       "     fees  vsize  sats/vbyte\n",
       "0    3372    252          13\n",
       "1    3953   1658           2\n",
       "2    5641    405          13\n",
       "3     219    145           1\n",
       "4    1720    346           4\n",
       "..    ...    ...         ...\n",
       "907  8040    665          12\n",
       "908  1305    142           9\n",
       "909  1699    141          12\n",
       "910   860    372           2\n",
       "911   531    208           2\n",
       "\n",
       "[912 rows x 3 columns]"
      ]
     },
     "execution_count": 46,
     "metadata": {},
     "output_type": "execute_result"
    }
   ],
   "source": [
    "df"
   ]
  },
  {
   "cell_type": "code",
   "execution_count": null,
   "metadata": {},
   "outputs": [],
   "source": []
  },
  {
   "cell_type": "code",
   "execution_count": null,
   "metadata": {},
   "outputs": [],
   "source": []
  }
 ],
 "metadata": {
  "kernelspec": {
   "display_name": "Python 3",
   "language": "python",
   "name": "python3"
  },
  "language_info": {
   "codemirror_mode": {
    "name": "ipython",
    "version": 3
   },
   "file_extension": ".py",
   "mimetype": "text/x-python",
   "name": "python",
   "nbconvert_exporter": "python",
   "pygments_lexer": "ipython3",
   "version": "3.8.5"
  }
 },
 "nbformat": 4,
 "nbformat_minor": 4
}

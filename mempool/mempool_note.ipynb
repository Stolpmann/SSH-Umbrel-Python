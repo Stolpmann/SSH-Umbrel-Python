{
 "cells": [
  {
   "cell_type": "code",
   "execution_count": 39,
   "metadata": {},
   "outputs": [],
   "source": [
    "import pandas as pd\n",
    "import numpy as np"
   ]
  },
  {
   "cell_type": "code",
   "execution_count": 40,
   "metadata": {},
   "outputs": [
    {
     "name": "stdout",
     "output_type": "stream",
     "text": [
      "     Unnamed: 0                      fees                 vsize\n",
      "0             0      \"fee\": 0.00003372,\\n       \"vsize\": 252,\\n\n",
      "1             1      \"fee\": 0.00003954,\\n      \"vsize\": 1658,\\n\n",
      "2             2      \"fee\": 0.00005641,\\n       \"vsize\": 405,\\n\n",
      "3             3      \"fee\": 0.00000219,\\n       \"vsize\": 145,\\n\n",
      "4             4      \"fee\": 0.00001720,\\n       \"vsize\": 346,\\n\n",
      "..          ...                       ...                   ...\n",
      "907         907      \"fee\": 0.00008040,\\n       \"vsize\": 665,\\n\n",
      "908         908      \"fee\": 0.00001305,\\n       \"vsize\": 142,\\n\n",
      "909         909      \"fee\": 0.00001699,\\n       \"vsize\": 141,\\n\n",
      "910         910      \"fee\": 0.00000860,\\n       \"vsize\": 372,\\n\n",
      "911         911      \"fee\": 0.00000531,\\n       \"vsize\": 208,\\n\n",
      "\n",
      "[912 rows x 3 columns]\n"
     ]
    }
   ],
   "source": [
    "df = pd.read_csv('memdata.csv')\n",
    "print(df)"
   ]
  },
  {
   "cell_type": "code",
   "execution_count": 41,
   "metadata": {},
   "outputs": [
    {
     "name": "stdout",
     "output_type": "stream",
     "text": [
      "     Unnamed: 0        fees vsize\n",
      "0             0  0.00003372   252\n",
      "1             1  0.00003954  1658\n",
      "2             2  0.00005641   405\n",
      "3             3  0.00000219   145\n",
      "4             4  0.00001720   346\n",
      "..          ...         ...   ...\n",
      "907         907  0.00008040   665\n",
      "908         908  0.00001305   142\n",
      "909         909  0.00001699   141\n",
      "910         910  0.00000860   372\n",
      "911         911  0.00000531   208\n",
      "\n",
      "[912 rows x 3 columns]\n"
     ]
    }
   ],
   "source": [
    "df[\"fees\"] = df[\"fees\"].str[11:21]\n",
    "df[\"vsize\"] = df[\"vsize\"].str.extract('(\\d+)', expand=False)\n",
    "print(df)"
   ]
  },
  {
   "cell_type": "code",
   "execution_count": 42,
   "metadata": {},
   "outputs": [],
   "source": [
    "df['fees'] = df['fees'].astype('float')\n",
    "df['fees'] = df['fees'].apply(lambda x: x * 100000000)\n",
    "df['fees'] = df['fees'].astype('int')\n",
    "df['vsize'] = df['vsize'].astype('int')"
   ]
  },
  {
   "cell_type": "code",
   "execution_count": 43,
   "metadata": {},
   "outputs": [],
   "source": [
    "df[\"sats/vbyte\"] = df[\"fees\"]/df[\"vsize\"]\n",
    "df['sats/vbyte'] = df['sats/vbyte'].astype('int')"
   ]
  },
  {
   "cell_type": "code",
   "execution_count": 44,
   "metadata": {},
   "outputs": [
    {
     "data": {
      "text/html": [
       "<div>\n",
       "<style scoped>\n",
       "    .dataframe tbody tr th:only-of-type {\n",
       "        vertical-align: middle;\n",
       "    }\n",
       "\n",
       "    .dataframe tbody tr th {\n",
       "        vertical-align: top;\n",
       "    }\n",
       "\n",
       "    .dataframe thead th {\n",
       "        text-align: right;\n",
       "    }\n",
       "</style>\n",
       "<table border=\"1\" class=\"dataframe\">\n",
       "  <thead>\n",
       "    <tr style=\"text-align: right;\">\n",
       "      <th></th>\n",
       "      <th>fees</th>\n",
       "      <th>vsize</th>\n",
       "      <th>sats/vbyte</th>\n",
       "    </tr>\n",
       "  </thead>\n",
       "  <tbody>\n",
       "    <tr>\n",
       "      <th>0</th>\n",
       "      <td>3372</td>\n",
       "      <td>252</td>\n",
       "      <td>13</td>\n",
       "    </tr>\n",
       "    <tr>\n",
       "      <th>1</th>\n",
       "      <td>3953</td>\n",
       "      <td>1658</td>\n",
       "      <td>2</td>\n",
       "    </tr>\n",
       "    <tr>\n",
       "      <th>2</th>\n",
       "      <td>5641</td>\n",
       "      <td>405</td>\n",
       "      <td>13</td>\n",
       "    </tr>\n",
       "    <tr>\n",
       "      <th>3</th>\n",
       "      <td>219</td>\n",
       "      <td>145</td>\n",
       "      <td>1</td>\n",
       "    </tr>\n",
       "    <tr>\n",
       "      <th>4</th>\n",
       "      <td>1720</td>\n",
       "      <td>346</td>\n",
       "      <td>4</td>\n",
       "    </tr>\n",
       "    <tr>\n",
       "      <th>...</th>\n",
       "      <td>...</td>\n",
       "      <td>...</td>\n",
       "      <td>...</td>\n",
       "    </tr>\n",
       "    <tr>\n",
       "      <th>907</th>\n",
       "      <td>8040</td>\n",
       "      <td>665</td>\n",
       "      <td>12</td>\n",
       "    </tr>\n",
       "    <tr>\n",
       "      <th>908</th>\n",
       "      <td>1305</td>\n",
       "      <td>142</td>\n",
       "      <td>9</td>\n",
       "    </tr>\n",
       "    <tr>\n",
       "      <th>909</th>\n",
       "      <td>1699</td>\n",
       "      <td>141</td>\n",
       "      <td>12</td>\n",
       "    </tr>\n",
       "    <tr>\n",
       "      <th>910</th>\n",
       "      <td>860</td>\n",
       "      <td>372</td>\n",
       "      <td>2</td>\n",
       "    </tr>\n",
       "    <tr>\n",
       "      <th>911</th>\n",
       "      <td>531</td>\n",
       "      <td>208</td>\n",
       "      <td>2</td>\n",
       "    </tr>\n",
       "  </tbody>\n",
       "</table>\n",
       "<p>912 rows × 3 columns</p>\n",
       "</div>"
      ],
      "text/plain": [
       "     fees  vsize  sats/vbyte\n",
       "0    3372    252          13\n",
       "1    3953   1658           2\n",
       "2    5641    405          13\n",
       "3     219    145           1\n",
       "4    1720    346           4\n",
       "..    ...    ...         ...\n",
       "907  8040    665          12\n",
       "908  1305    142           9\n",
       "909  1699    141          12\n",
       "910   860    372           2\n",
       "911   531    208           2\n",
       "\n",
       "[912 rows x 3 columns]"
      ]
     },
     "execution_count": 44,
     "metadata": {},
     "output_type": "execute_result"
    }
   ],
   "source": [
    "df = df.drop(columns='Unnamed: 0')\n",
    "df"
   ]
  },
  {
   "cell_type": "code",
   "execution_count": 45,
   "metadata": {},
   "outputs": [],
   "source": [
    "df.to_csv(\"memdata_clean.csv\",index=False)"
   ]
  },
  {
   "cell_type": "code",
   "execution_count": 46,
   "metadata": {},
   "outputs": [
    {
     "data": {
      "text/html": [
       "<div>\n",
       "<style scoped>\n",
       "    .dataframe tbody tr th:only-of-type {\n",
       "        vertical-align: middle;\n",
       "    }\n",
       "\n",
       "    .dataframe tbody tr th {\n",
       "        vertical-align: top;\n",
       "    }\n",
       "\n",
       "    .dataframe thead th {\n",
       "        text-align: right;\n",
       "    }\n",
       "</style>\n",
       "<table border=\"1\" class=\"dataframe\">\n",
       "  <thead>\n",
       "    <tr style=\"text-align: right;\">\n",
       "      <th></th>\n",
       "      <th>fees</th>\n",
       "      <th>vsize</th>\n",
       "      <th>sats/vbyte</th>\n",
       "    </tr>\n",
       "  </thead>\n",
       "  <tbody>\n",
       "    <tr>\n",
       "      <th>0</th>\n",
       "      <td>3372</td>\n",
       "      <td>252</td>\n",
       "      <td>13</td>\n",
       "    </tr>\n",
       "    <tr>\n",
       "      <th>1</th>\n",
       "      <td>3953</td>\n",
       "      <td>1658</td>\n",
       "      <td>2</td>\n",
       "    </tr>\n",
       "    <tr>\n",
       "      <th>2</th>\n",
       "      <td>5641</td>\n",
       "      <td>405</td>\n",
       "      <td>13</td>\n",
       "    </tr>\n",
       "    <tr>\n",
       "      <th>3</th>\n",
       "      <td>219</td>\n",
       "      <td>145</td>\n",
       "      <td>1</td>\n",
       "    </tr>\n",
       "    <tr>\n",
       "      <th>4</th>\n",
       "      <td>1720</td>\n",
       "      <td>346</td>\n",
       "      <td>4</td>\n",
       "    </tr>\n",
       "    <tr>\n",
       "      <th>...</th>\n",
       "      <td>...</td>\n",
       "      <td>...</td>\n",
       "      <td>...</td>\n",
       "    </tr>\n",
       "    <tr>\n",
       "      <th>907</th>\n",
       "      <td>8040</td>\n",
       "      <td>665</td>\n",
       "      <td>12</td>\n",
       "    </tr>\n",
       "    <tr>\n",
       "      <th>908</th>\n",
       "      <td>1305</td>\n",
       "      <td>142</td>\n",
       "      <td>9</td>\n",
       "    </tr>\n",
       "    <tr>\n",
       "      <th>909</th>\n",
       "      <td>1699</td>\n",
       "      <td>141</td>\n",
       "      <td>12</td>\n",
       "    </tr>\n",
       "    <tr>\n",
       "      <th>910</th>\n",
       "      <td>860</td>\n",
       "      <td>372</td>\n",
       "      <td>2</td>\n",
       "    </tr>\n",
       "    <tr>\n",
       "      <th>911</th>\n",
       "      <td>531</td>\n",
       "      <td>208</td>\n",
       "      <td>2</td>\n",
       "    </tr>\n",
       "  </tbody>\n",
       "</table>\n",
       "<p>912 rows × 3 columns</p>\n",
       "</div>"
      ],
      "text/plain": [
       "     fees  vsize  sats/vbyte\n",
       "0    3372    252          13\n",
       "1    3953   1658           2\n",
       "2    5641    405          13\n",
       "3     219    145           1\n",
       "4    1720    346           4\n",
       "..    ...    ...         ...\n",
       "907  8040    665          12\n",
       "908  1305    142           9\n",
       "909  1699    141          12\n",
       "910   860    372           2\n",
       "911   531    208           2\n",
       "\n",
       "[912 rows x 3 columns]"
      ]
     },
     "execution_count": 46,
     "metadata": {},
     "output_type": "execute_result"
    }
   ],
   "source": [
    "df"
   ]
  },
  {
   "cell_type": "code",
   "execution_count": null,
   "metadata": {},
   "outputs": [],
   "source": []
  },
  {
   "cell_type": "code",
   "execution_count": null,
   "metadata": {},
   "outputs": [],
   "source": []
  }
 ],
 "metadata": {
  "kernelspec": {
   "display_name": "Python 3",
   "language": "python",
   "name": "python3"
  },
  "language_info": {
   "codemirror_mode": {
    "name": "ipython",
    "version": 3
   },
   "file_extension": ".py",
   "mimetype": "text/x-python",
   "name": "python",
   "nbconvert_exporter": "python",
   "pygments_lexer": "ipython3",
   "version": "3.8.5"
  }
 },
 "nbformat": 4,
 "nbformat_minor": 4
}

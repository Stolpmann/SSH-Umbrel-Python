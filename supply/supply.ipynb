{
 "cells": [
  {
   "cell_type": "code",
   "execution_count": 87,
   "metadata": {},
   "outputs": [],
   "source": [
    "import pandas as pd\n",
    "pd.set_option('display.max_colwidth', None)\n",
    "import numpy as np"
   ]
  },
  {
   "cell_type": "code",
   "execution_count": 88,
   "metadata": {},
   "outputs": [
    {
     "data": {
      "text/html": [
       "<div>\n",
       "<style scoped>\n",
       "    .dataframe tbody tr th:only-of-type {\n",
       "        vertical-align: middle;\n",
       "    }\n",
       "\n",
       "    .dataframe tbody tr th {\n",
       "        vertical-align: top;\n",
       "    }\n",
       "\n",
       "    .dataframe thead th {\n",
       "        text-align: right;\n",
       "    }\n",
       "</style>\n",
       "<table border=\"1\" class=\"dataframe\">\n",
       "  <thead>\n",
       "    <tr style=\"text-align: right;\">\n",
       "      <th></th>\n",
       "      <th>0</th>\n",
       "    </tr>\n",
       "  </thead>\n",
       "  <tbody>\n",
       "    <tr>\n",
       "      <th>1</th>\n",
       "      <td>\"height\": 737497,\\n</td>\n",
       "    </tr>\n",
       "    <tr>\n",
       "      <th>2</th>\n",
       "      <td>\"bestblock\": \"000000000000000000007baf137f4c9a82e9124292aca662eb3a0e1fa6185216\",\\n</td>\n",
       "    </tr>\n",
       "    <tr>\n",
       "      <th>3</th>\n",
       "      <td>\"txouts\": 82035401,\\n</td>\n",
       "    </tr>\n",
       "    <tr>\n",
       "      <th>4</th>\n",
       "      <td>\"bogosize\": 6124377401,\\n</td>\n",
       "    </tr>\n",
       "    <tr>\n",
       "      <th>5</th>\n",
       "      <td>\"hash_serialized_2\": \"460d351e956a6ea0e19fe89cea30f8c526f76dac2e3071411f1fb56d72fe59dd\",\\n</td>\n",
       "    </tr>\n",
       "    <tr>\n",
       "      <th>6</th>\n",
       "      <td>\"total_amount\": 19046648.42921805,\\n</td>\n",
       "    </tr>\n",
       "    <tr>\n",
       "      <th>7</th>\n",
       "      <td>\"transactions\": 49428312,\\n</td>\n",
       "    </tr>\n",
       "    <tr>\n",
       "      <th>8</th>\n",
       "      <td>\"disk_size\": 4987801170\\n</td>\n",
       "    </tr>\n",
       "    <tr>\n",
       "      <th>9</th>\n",
       "      <td>}\\n</td>\n",
       "    </tr>\n",
       "  </tbody>\n",
       "</table>\n",
       "</div>"
      ],
      "text/plain": [
       "                                                                                              0\n",
       "1                                                                           \"height\": 737497,\\n\n",
       "2            \"bestblock\": \"000000000000000000007baf137f4c9a82e9124292aca662eb3a0e1fa6185216\",\\n\n",
       "3                                                                         \"txouts\": 82035401,\\n\n",
       "4                                                                     \"bogosize\": 6124377401,\\n\n",
       "5    \"hash_serialized_2\": \"460d351e956a6ea0e19fe89cea30f8c526f76dac2e3071411f1fb56d72fe59dd\",\\n\n",
       "6                                                          \"total_amount\": 19046648.42921805,\\n\n",
       "7                                                                   \"transactions\": 49428312,\\n\n",
       "8                                                                     \"disk_size\": 4987801170\\n\n",
       "9                                                                                           }\\n"
      ]
     },
     "execution_count": 88,
     "metadata": {},
     "output_type": "execute_result"
    }
   ],
   "source": [
    "supply = pd.read_csv(\"supply.csv\")\n",
    "supply = supply.iloc[1: , 1:]\n",
    "supply"
   ]
  },
  {
   "cell_type": "code",
   "execution_count": 89,
   "metadata": {
    "scrolled": true
   },
   "outputs": [
    {
     "data": {
      "text/html": [
       "<div>\n",
       "<style scoped>\n",
       "    .dataframe tbody tr th:only-of-type {\n",
       "        vertical-align: middle;\n",
       "    }\n",
       "\n",
       "    .dataframe tbody tr th {\n",
       "        vertical-align: top;\n",
       "    }\n",
       "\n",
       "    .dataframe thead th {\n",
       "        text-align: right;\n",
       "    }\n",
       "</style>\n",
       "<table border=\"1\" class=\"dataframe\">\n",
       "  <thead>\n",
       "    <tr style=\"text-align: right;\">\n",
       "      <th></th>\n",
       "      <th>height</th>\n",
       "      <th>best_block</th>\n",
       "      <th>tx_outs</th>\n",
       "      <th>bogosize</th>\n",
       "      <th>hash_serialized_2</th>\n",
       "      <th>total_amount</th>\n",
       "      <th>transactions</th>\n",
       "      <th>disk_size</th>\n",
       "    </tr>\n",
       "  </thead>\n",
       "  <tbody>\n",
       "    <tr>\n",
       "      <th>0</th>\n",
       "      <td>\"height\": 737497,\\n</td>\n",
       "      <td>\"bestblock\": \"000000000000000000007baf137f4c9a82e9124292aca662eb3a0e1fa6185216\",\\n</td>\n",
       "      <td>\"txouts\": 82035401,\\n</td>\n",
       "      <td>\"bogosize\": 6124377401,\\n</td>\n",
       "      <td>\"hash_serialized_2\": \"460d351e956a6ea0e19fe89cea30f8c526f76dac2e3071411f1fb56d72fe59dd\",\\n</td>\n",
       "      <td>\"total_amount\": 19046648.42921805,\\n</td>\n",
       "      <td>\"transactions\": 49428312,\\n</td>\n",
       "      <td>\"disk_size\": 4987801170\\n</td>\n",
       "    </tr>\n",
       "  </tbody>\n",
       "</table>\n",
       "</div>"
      ],
      "text/plain": [
       "                  height  \\\n",
       "0    \"height\": 737497,\\n   \n",
       "\n",
       "                                                                             best_block  \\\n",
       "0    \"bestblock\": \"000000000000000000007baf137f4c9a82e9124292aca662eb3a0e1fa6185216\",\\n   \n",
       "\n",
       "                   tx_outs                     bogosize  \\\n",
       "0    \"txouts\": 82035401,\\n    \"bogosize\": 6124377401,\\n   \n",
       "\n",
       "                                                                              hash_serialized_2  \\\n",
       "0    \"hash_serialized_2\": \"460d351e956a6ea0e19fe89cea30f8c526f76dac2e3071411f1fb56d72fe59dd\",\\n   \n",
       "\n",
       "                             total_amount                   transactions  \\\n",
       "0    \"total_amount\": 19046648.42921805,\\n    \"transactions\": 49428312,\\n   \n",
       "\n",
       "                     disk_size  \n",
       "0    \"disk_size\": 4987801170\\n  "
      ]
     },
     "execution_count": 89,
     "metadata": {},
     "output_type": "execute_result"
    }
   ],
   "source": [
    "supply = supply.iloc[:-1 , :]\n",
    "supply = supply.transpose()\n",
    "\n",
    "supply.columns = ['height', 'best_block', 'tx_outs', 'bogosize',\n",
    "                 'hash_serialized_2', 'total_amount', 'transactions', 'disk_size']\n",
    "supply"
   ]
  },
  {
   "cell_type": "code",
   "execution_count": 90,
   "metadata": {},
   "outputs": [],
   "source": [
    "supply[\"height\"] = supply[\"height\"].str.extract('(\\d+)', expand=False)\n",
    "supply[\"tx_outs\"] = supply[\"tx_outs\"].str.extract('(\\d+)', expand=False)\n",
    "supply[\"bogosize\"] = supply[\"bogosize\"].str.extract('(\\d+)', expand=False)\n",
    "supply[\"hash_serialized_2\"] = supply[\"hash_serialized_2\"].str.extract('(\\d+)', expand=False)\n",
    "supply[\"total_amount\"] = supply[\"total_amount\"].str.extract('(\\d+)', expand=False)\n",
    "supply[\"transactions\"] = supply[\"transactions\"].str.extract('(\\d+)', expand=False)\n",
    "supply[\"disk_size\"] = supply[\"disk_size\"].str.extract('(\\d+)', expand=False)"
   ]
  },
  {
   "cell_type": "code",
   "execution_count": 91,
   "metadata": {},
   "outputs": [
    {
     "data": {
      "text/html": [
       "<div>\n",
       "<style scoped>\n",
       "    .dataframe tbody tr th:only-of-type {\n",
       "        vertical-align: middle;\n",
       "    }\n",
       "\n",
       "    .dataframe tbody tr th {\n",
       "        vertical-align: top;\n",
       "    }\n",
       "\n",
       "    .dataframe thead th {\n",
       "        text-align: right;\n",
       "    }\n",
       "</style>\n",
       "<table border=\"1\" class=\"dataframe\">\n",
       "  <thead>\n",
       "    <tr style=\"text-align: right;\">\n",
       "      <th></th>\n",
       "      <th>Height</th>\n",
       "      <th>Best Block</th>\n",
       "      <th>UTXOs</th>\n",
       "      <th>bogosize</th>\n",
       "      <th>hash_serialized_2</th>\n",
       "      <th>Circulating Supply</th>\n",
       "      <th>Transactions</th>\n",
       "      <th>Disk Size</th>\n",
       "    </tr>\n",
       "  </thead>\n",
       "  <tbody>\n",
       "    <tr>\n",
       "      <th>0</th>\n",
       "      <td>737497</td>\n",
       "      <td>\"bestblock\": \"000000000000000000007baf137f4c9a82e9124292aca662eb3a0e1fa6185216\",\\n</td>\n",
       "      <td>82035401</td>\n",
       "      <td>6124377401</td>\n",
       "      <td>2</td>\n",
       "      <td>19046648</td>\n",
       "      <td>49428312</td>\n",
       "      <td>4987801170</td>\n",
       "    </tr>\n",
       "  </tbody>\n",
       "</table>\n",
       "</div>"
      ],
      "text/plain": [
       "   Height  \\\n",
       "0  737497   \n",
       "\n",
       "                                                                             Best Block  \\\n",
       "0    \"bestblock\": \"000000000000000000007baf137f4c9a82e9124292aca662eb3a0e1fa6185216\",\\n   \n",
       "\n",
       "      UTXOs    bogosize hash_serialized_2 Circulating Supply Transactions  \\\n",
       "0  82035401  6124377401                 2           19046648     49428312   \n",
       "\n",
       "    Disk Size  \n",
       "0  4987801170  "
      ]
     },
     "execution_count": 91,
     "metadata": {},
     "output_type": "execute_result"
    }
   ],
   "source": [
    "supply.columns = ['Height', 'Best Block', 'UTXOs', 'bogosize',\n",
    "                 'hash_serialized_2', 'Circulating Supply', 'Transactions', 'Disk Size']\n",
    "supply"
   ]
  },
  {
   "cell_type": "code",
   "execution_count": 92,
   "metadata": {},
   "outputs": [],
   "source": [
    "supply[\"Best Block\"] = supply[\"Best Block\"].str[16:-3]"
   ]
  },
  {
   "cell_type": "code",
   "execution_count": 93,
   "metadata": {},
   "outputs": [],
   "source": [
    "total = 21000000\n",
    "supply['Total'] = total\n",
    "mined = supply['Circulating Supply']\n",
    "mined = int(mined) - 50\n",
    "issuance_remaining = total - mined\n",
    "supply['Issuance Remaining'] = issuance_remaining"
   ]
  },
  {
   "cell_type": "code",
   "execution_count": 94,
   "metadata": {},
   "outputs": [
    {
     "data": {
      "text/html": [
       "<div>\n",
       "<style scoped>\n",
       "    .dataframe tbody tr th:only-of-type {\n",
       "        vertical-align: middle;\n",
       "    }\n",
       "\n",
       "    .dataframe tbody tr th {\n",
       "        vertical-align: top;\n",
       "    }\n",
       "\n",
       "    .dataframe thead th {\n",
       "        text-align: right;\n",
       "    }\n",
       "</style>\n",
       "<table border=\"1\" class=\"dataframe\">\n",
       "  <thead>\n",
       "    <tr style=\"text-align: right;\">\n",
       "      <th></th>\n",
       "      <th>0</th>\n",
       "    </tr>\n",
       "  </thead>\n",
       "  <tbody>\n",
       "    <tr>\n",
       "      <th>Height</th>\n",
       "      <td>737497</td>\n",
       "    </tr>\n",
       "    <tr>\n",
       "      <th>UTXOs</th>\n",
       "      <td>82035401</td>\n",
       "    </tr>\n",
       "    <tr>\n",
       "      <th>Circulating Supply</th>\n",
       "      <td>19046648</td>\n",
       "    </tr>\n",
       "    <tr>\n",
       "      <th>Transactions</th>\n",
       "      <td>49428312</td>\n",
       "    </tr>\n",
       "    <tr>\n",
       "      <th>Disk Size</th>\n",
       "      <td>4987801170</td>\n",
       "    </tr>\n",
       "    <tr>\n",
       "      <th>Total</th>\n",
       "      <td>21000000</td>\n",
       "    </tr>\n",
       "    <tr>\n",
       "      <th>Issuance Remaining</th>\n",
       "      <td>1953402</td>\n",
       "    </tr>\n",
       "  </tbody>\n",
       "</table>\n",
       "</div>"
      ],
      "text/plain": [
       "                             0\n",
       "Height                  737497\n",
       "UTXOs                 82035401\n",
       "Circulating Supply    19046648\n",
       "Transactions          49428312\n",
       "Disk Size           4987801170\n",
       "Total                 21000000\n",
       "Issuance Remaining     1953402"
      ]
     },
     "execution_count": 94,
     "metadata": {},
     "output_type": "execute_result"
    }
   ],
   "source": [
    "supply = supply.drop(columns=['hash_serialized_2','bogosize','Best Block'])\n",
    "supplyt = supply.transpose()\n",
    "supplyt"
   ]
  },
  {
   "cell_type": "code",
   "execution_count": 96,
   "metadata": {},
   "outputs": [],
   "source": [
    "#supply.to_csv(\"supply_clean.csv\")\n",
    "supplyt.to_csv(\"supply_clean.csv\", header=False)"
   ]
  },
  {
   "cell_type": "code",
   "execution_count": 14,
   "metadata": {},
   "outputs": [],
   "source": [
    "bitcoin_supply =[supply['issuance_remaining'][0], int(supply['total_amount'][0])]"
   ]
  },
  {
   "cell_type": "code",
   "execution_count": 16,
   "metadata": {},
   "outputs": [],
   "source": [
    "titles = ['issuance_remaining', 'total_amount']"
   ]
  },
  {
   "cell_type": "code",
   "execution_count": 17,
   "metadata": {},
   "outputs": [
    {
     "data": {
      "text/plain": [
       "[1953352, 19046648]"
      ]
     },
     "execution_count": 17,
     "metadata": {},
     "output_type": "execute_result"
    }
   ],
   "source": [
    "bitcoin_supply"
   ]
  },
  {
   "cell_type": "code",
   "execution_count": 18,
   "metadata": {},
   "outputs": [
    {
     "data": {
      "text/plain": [
       "['issuance_remaining', 'total_amount']"
      ]
     },
     "execution_count": 18,
     "metadata": {},
     "output_type": "execute_result"
    }
   ],
   "source": [
    "titles"
   ]
  },
  {
   "cell_type": "code",
   "execution_count": null,
   "metadata": {},
   "outputs": [],
   "source": [
    "supply.insert(, \"Stat\", ['height', 'bestblock', 'txouts', 'bogosize', ''], True)"
   ]
  }
 ],
 "metadata": {
  "kernelspec": {
   "display_name": "Python 3",
   "language": "python",
   "name": "python3"
  },
  "language_info": {
   "codemirror_mode": {
    "name": "ipython",
    "version": 3
   },
   "file_extension": ".py",
   "mimetype": "text/x-python",
   "name": "python",
   "nbconvert_exporter": "python",
   "pygments_lexer": "ipython3",
   "version": "3.8.5"
  }
 },
 "nbformat": 4,
 "nbformat_minor": 4
}

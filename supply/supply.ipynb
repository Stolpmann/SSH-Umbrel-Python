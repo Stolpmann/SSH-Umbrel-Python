{
 "cells": [
  {
   "cell_type": "code",
   "execution_count": 1,
   "metadata": {},
   "outputs": [],
   "source": [
    "import pandas as pd\n",
    "pd.set_option('display.max_colwidth', None)\n",
    "import numpy as np"
   ]
  },
  {
   "cell_type": "code",
   "execution_count": 2,
   "metadata": {},
   "outputs": [
    {
     "data": {
      "text/html": [
       "<div>\n",
       "<style scoped>\n",
       "    .dataframe tbody tr th:only-of-type {\n",
       "        vertical-align: middle;\n",
       "    }\n",
       "\n",
       "    .dataframe tbody tr th {\n",
       "        vertical-align: top;\n",
       "    }\n",
       "\n",
       "    .dataframe thead th {\n",
       "        text-align: right;\n",
       "    }\n",
       "</style>\n",
       "<table border=\"1\" class=\"dataframe\">\n",
       "  <thead>\n",
       "    <tr style=\"text-align: right;\">\n",
       "      <th></th>\n",
       "      <th>0</th>\n",
       "    </tr>\n",
       "  </thead>\n",
       "  <tbody>\n",
       "    <tr>\n",
       "      <th>1</th>\n",
       "      <td>\"height\": 737497,\\n</td>\n",
       "    </tr>\n",
       "    <tr>\n",
       "      <th>2</th>\n",
       "      <td>\"bestblock\": \"000000000000000000007baf137f4c9a82e9124292aca662eb3a0e1fa6185216\",\\n</td>\n",
       "    </tr>\n",
       "    <tr>\n",
       "      <th>3</th>\n",
       "      <td>\"txouts\": 82035401,\\n</td>\n",
       "    </tr>\n",
       "    <tr>\n",
       "      <th>4</th>\n",
       "      <td>\"bogosize\": 6124377401,\\n</td>\n",
       "    </tr>\n",
       "    <tr>\n",
       "      <th>5</th>\n",
       "      <td>\"hash_serialized_2\": \"460d351e956a6ea0e19fe89cea30f8c526f76dac2e3071411f1fb56d72fe59dd\",\\n</td>\n",
       "    </tr>\n",
       "    <tr>\n",
       "      <th>6</th>\n",
       "      <td>\"total_amount\": 19046648.42921805,\\n</td>\n",
       "    </tr>\n",
       "    <tr>\n",
       "      <th>7</th>\n",
       "      <td>\"transactions\": 49428312,\\n</td>\n",
       "    </tr>\n",
       "    <tr>\n",
       "      <th>8</th>\n",
       "      <td>\"disk_size\": 4987801170\\n</td>\n",
       "    </tr>\n",
       "    <tr>\n",
       "      <th>9</th>\n",
       "      <td>}\\n</td>\n",
       "    </tr>\n",
       "  </tbody>\n",
       "</table>\n",
       "</div>"
      ],
      "text/plain": [
       "                                                                                              0\n",
       "1                                                                           \"height\": 737497,\\n\n",
       "2            \"bestblock\": \"000000000000000000007baf137f4c9a82e9124292aca662eb3a0e1fa6185216\",\\n\n",
       "3                                                                         \"txouts\": 82035401,\\n\n",
       "4                                                                     \"bogosize\": 6124377401,\\n\n",
       "5    \"hash_serialized_2\": \"460d351e956a6ea0e19fe89cea30f8c526f76dac2e3071411f1fb56d72fe59dd\",\\n\n",
       "6                                                          \"total_amount\": 19046648.42921805,\\n\n",
       "7                                                                   \"transactions\": 49428312,\\n\n",
       "8                                                                     \"disk_size\": 4987801170\\n\n",
       "9                                                                                           }\\n"
      ]
     },
     "execution_count": 2,
     "metadata": {},
     "output_type": "execute_result"
    }
   ],
   "source": [
    "supply = pd.read_csv(\"supply.csv\")\n",
    "supply = supply.iloc[1: , 1:]\n",
    "supply"
   ]
  },
  {
   "cell_type": "code",
   "execution_count": 3,
   "metadata": {},
   "outputs": [
    {
     "data": {
      "text/html": [
       "<div>\n",
       "<style scoped>\n",
       "    .dataframe tbody tr th:only-of-type {\n",
       "        vertical-align: middle;\n",
       "    }\n",
       "\n",
       "    .dataframe tbody tr th {\n",
       "        vertical-align: top;\n",
       "    }\n",
       "\n",
       "    .dataframe thead th {\n",
       "        text-align: right;\n",
       "    }\n",
       "</style>\n",
       "<table border=\"1\" class=\"dataframe\">\n",
       "  <thead>\n",
       "    <tr style=\"text-align: right;\">\n",
       "      <th></th>\n",
       "      <th>height</th>\n",
       "      <th>best_block</th>\n",
       "      <th>tx_outs</th>\n",
       "      <th>bogosize</th>\n",
       "      <th>hash_serialized_2</th>\n",
       "      <th>total_amount</th>\n",
       "      <th>transactions</th>\n",
       "      <th>disk_size</th>\n",
       "    </tr>\n",
       "  </thead>\n",
       "  <tbody>\n",
       "    <tr>\n",
       "      <th>0</th>\n",
       "      <td>\"height\": 737497,\\n</td>\n",
       "      <td>\"bestblock\": \"000000000000000000007baf137f4c9a82e9124292aca662eb3a0e1fa6185216\",\\n</td>\n",
       "      <td>\"txouts\": 82035401,\\n</td>\n",
       "      <td>\"bogosize\": 6124377401,\\n</td>\n",
       "      <td>\"hash_serialized_2\": \"460d351e956a6ea0e19fe89cea30f8c526f76dac2e3071411f1fb56d72fe59dd\",\\n</td>\n",
       "      <td>\"total_amount\": 19046648.42921805,\\n</td>\n",
       "      <td>\"transactions\": 49428312,\\n</td>\n",
       "      <td>\"disk_size\": 4987801170\\n</td>\n",
       "    </tr>\n",
       "  </tbody>\n",
       "</table>\n",
       "</div>"
      ],
      "text/plain": [
       "                  height  \\\n",
       "0    \"height\": 737497,\\n   \n",
       "\n",
       "                                                                             best_block  \\\n",
       "0    \"bestblock\": \"000000000000000000007baf137f4c9a82e9124292aca662eb3a0e1fa6185216\",\\n   \n",
       "\n",
       "                   tx_outs                     bogosize  \\\n",
       "0    \"txouts\": 82035401,\\n    \"bogosize\": 6124377401,\\n   \n",
       "\n",
       "                                                                              hash_serialized_2  \\\n",
       "0    \"hash_serialized_2\": \"460d351e956a6ea0e19fe89cea30f8c526f76dac2e3071411f1fb56d72fe59dd\",\\n   \n",
       "\n",
       "                             total_amount                   transactions  \\\n",
       "0    \"total_amount\": 19046648.42921805,\\n    \"transactions\": 49428312,\\n   \n",
       "\n",
       "                     disk_size  \n",
       "0    \"disk_size\": 4987801170\\n  "
      ]
     },
     "execution_count": 3,
     "metadata": {},
     "output_type": "execute_result"
    }
   ],
   "source": [
    "supply = supply.iloc[:-1 , :]\n",
    "supply = supply.transpose()\n",
    "\n",
    "supply.columns = ['height', 'best_block', 'tx_outs', 'bogosize',\n",
    "                 'hash_serialized_2', 'total_amount', 'transactions', 'disk_size']\n",
    "supply"
   ]
  },
  {
   "cell_type": "code",
   "execution_count": 4,
   "metadata": {},
   "outputs": [],
   "source": [
    "supply[\"height\"] = supply[\"height\"].str.extract('(\\d+)', expand=False)\n",
    "supply[\"tx_outs\"] = supply[\"tx_outs\"].str.extract('(\\d+)', expand=False)\n",
    "supply[\"bogosize\"] = supply[\"bogosize\"].str.extract('(\\d+)', expand=False)\n",
    "supply[\"total_amount\"] = supply[\"total_amount\"].str.extract('(\\d+)', expand=False)\n",
    "supply[\"transactions\"] = supply[\"transactions\"].str.extract('(\\d+)', expand=False)\n",
    "supply[\"disk_size\"] = supply[\"disk_size\"].str.extract('(\\d+)', expand=False)"
   ]
  },
  {
   "cell_type": "code",
   "execution_count": 5,
   "metadata": {},
   "outputs": [],
   "source": [
    "supply[\"best_block\"] = supply[\"best_block\"].str[16:-3]\n",
    "supply[\"hash_serialized_2\"] = supply[\"hash_serialized_2\"].str[24:-3]"
   ]
  },
  {
   "cell_type": "code",
   "execution_count": 6,
   "metadata": {},
   "outputs": [],
   "source": [
    "total = 21000000\n",
    "supply['total'] = total\n",
    "mined = supply['total_amount']\n",
    "mined = int(mined)\n",
    "issuance_remaining = total - mined\n",
    "supply['issuance_remaining'] = issuance_remaining"
   ]
  },
  {
   "cell_type": "code",
   "execution_count": 7,
   "metadata": {},
   "outputs": [
    {
     "data": {
      "text/html": [
       "<div>\n",
       "<style scoped>\n",
       "    .dataframe tbody tr th:only-of-type {\n",
       "        vertical-align: middle;\n",
       "    }\n",
       "\n",
       "    .dataframe tbody tr th {\n",
       "        vertical-align: top;\n",
       "    }\n",
       "\n",
       "    .dataframe thead th {\n",
       "        text-align: right;\n",
       "    }\n",
       "</style>\n",
       "<table border=\"1\" class=\"dataframe\">\n",
       "  <thead>\n",
       "    <tr style=\"text-align: right;\">\n",
       "      <th></th>\n",
       "      <th>height</th>\n",
       "      <th>best_block</th>\n",
       "      <th>tx_outs</th>\n",
       "      <th>bogosize</th>\n",
       "      <th>hash_serialized_2</th>\n",
       "      <th>total_amount</th>\n",
       "      <th>transactions</th>\n",
       "      <th>disk_size</th>\n",
       "      <th>total</th>\n",
       "      <th>issuance_remaining</th>\n",
       "    </tr>\n",
       "  </thead>\n",
       "  <tbody>\n",
       "    <tr>\n",
       "      <th>0</th>\n",
       "      <td>737497</td>\n",
       "      <td>000000000000000000007baf137f4c9a82e9124292aca662eb3a0e1fa6185216</td>\n",
       "      <td>82035401</td>\n",
       "      <td>6124377401</td>\n",
       "      <td>460d351e956a6ea0e19fe89cea30f8c526f76dac2e3071411f1fb56d72fe59dd</td>\n",
       "      <td>19046648</td>\n",
       "      <td>49428312</td>\n",
       "      <td>4987801170</td>\n",
       "      <td>21000000</td>\n",
       "      <td>1953352</td>\n",
       "    </tr>\n",
       "  </tbody>\n",
       "</table>\n",
       "</div>"
      ],
      "text/plain": [
       "   height                                                        best_block  \\\n",
       "0  737497  000000000000000000007baf137f4c9a82e9124292aca662eb3a0e1fa6185216   \n",
       "\n",
       "    tx_outs    bogosize  \\\n",
       "0  82035401  6124377401   \n",
       "\n",
       "                                                  hash_serialized_2  \\\n",
       "0  460d351e956a6ea0e19fe89cea30f8c526f76dac2e3071411f1fb56d72fe59dd   \n",
       "\n",
       "  total_amount transactions   disk_size     total  issuance_remaining  \n",
       "0     19046648     49428312  4987801170  21000000             1953352  "
      ]
     },
     "execution_count": 7,
     "metadata": {},
     "output_type": "execute_result"
    }
   ],
   "source": [
    "supply"
   ]
  },
  {
   "cell_type": "code",
   "execution_count": 8,
   "metadata": {},
   "outputs": [],
   "source": [
    "supply.to_csv(\"supply_clean.csv\")"
   ]
  },
  {
   "cell_type": "code",
   "execution_count": 14,
   "metadata": {},
   "outputs": [],
   "source": [
    "bitcoin_supply =[supply['issuance_remaining'][0], int(supply['total_amount'][0])]"
   ]
  },
  {
   "cell_type": "code",
   "execution_count": 16,
   "metadata": {},
   "outputs": [],
   "source": [
    "titles = ['issuance_remaining', 'total_amount']"
   ]
  },
  {
   "cell_type": "code",
   "execution_count": 17,
   "metadata": {},
   "outputs": [
    {
     "data": {
      "text/plain": [
       "[1953352, 19046648]"
      ]
     },
     "execution_count": 17,
     "metadata": {},
     "output_type": "execute_result"
    }
   ],
   "source": [
    "bitcoin_supply"
   ]
  },
  {
   "cell_type": "code",
   "execution_count": 18,
   "metadata": {},
   "outputs": [
    {
     "data": {
      "text/plain": [
       "['issuance_remaining', 'total_amount']"
      ]
     },
     "execution_count": 18,
     "metadata": {},
     "output_type": "execute_result"
    }
   ],
   "source": [
    "titles"
   ]
  },
  {
   "cell_type": "code",
   "execution_count": null,
   "metadata": {},
   "outputs": [],
   "source": []
  }
 ],
 "metadata": {
  "kernelspec": {
   "display_name": "Python 3",
   "language": "python",
   "name": "python3"
  },
  "language_info": {
   "codemirror_mode": {
    "name": "ipython",
    "version": 3
   },
   "file_extension": ".py",
   "mimetype": "text/x-python",
   "name": "python",
   "nbconvert_exporter": "python",
   "pygments_lexer": "ipython3",
   "version": "3.8.5"
  }
 },
 "nbformat": 4,
 "nbformat_minor": 4
}
